{
  "nbformat": 4,
  "nbformat_minor": 0,
  "metadata": {
    "colab": {
      "name": "Calculadora",
      "provenance": [],
      "collapsed_sections": [],
      "authorship_tag": "ABX9TyNfeKxqb72XWB5lLwUwltst",
      "include_colab_link": true
    },
    "kernelspec": {
      "name": "python3",
      "display_name": "Python 3"
    },
    "language_info": {
      "name": "python"
    }
  },
  "cells": [
    {
      "cell_type": "markdown",
      "metadata": {
        "id": "view-in-github",
        "colab_type": "text"
      },
      "source": [
        "<a href=\"https://colab.research.google.com/github/2joaopedro/Calculadora/blob/main/Calculadora.ipynb\" target=\"_parent\"><img src=\"https://colab.research.google.com/assets/colab-badge.svg\" alt=\"Open In Colab\"/></a>"
      ]
    },
    {
      "cell_type": "code",
      "execution_count": null,
      "metadata": {
        "id": "muJuX-MemKWo"
      },
      "outputs": [],
      "source": [
        "mensagem =  \"Por favor insira a operação matemática que deseja.\"\n",
        "mensagem += \"\\n+ para adição\"\n",
        "mensagem += \"\\n- para subtração\"\n",
        "mensagem += \"\\n* para multiplicação\"\n",
        "mensagem += \"\\n/ para divisão:\"\n",
        "\n",
        "operacao = input(mensagem)\n",
        "\n",
        "num1 = int(input(\"Entre o primeiro número: \"))\n",
        "num2 = int(input(\"Entre o segundo número: \"))\n",
        "\n",
        "if(operacao == \"+\"):\n",
        "  print(f\"Operação: {num1 + num2}\")\n",
        "elif(operacao == \"-\"):\n",
        "  print(f\"Operação: {num1 - num2}\")\n",
        "elif(operacao == \"*\"):\n",
        "  print(f\"Operação: {num1 * num2}\")\n",
        "else:\n",
        "  print(f\"Operação: {num1 / num2}\")"
      ]
    }
  ]
}